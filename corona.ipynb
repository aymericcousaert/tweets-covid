{
 "cells": [
  {
   "cell_type": "code",
   "execution_count": 4,
   "metadata": {},
   "outputs": [
    {
     "name": "stdout",
     "output_type": "stream",
     "text": [
      "[nltk_data] Downloading package stopwords to\n",
      "[nltk_data]     /Users/Aymeric/nltk_data...\n",
      "[nltk_data]   Package stopwords is already up-to-date!\n",
      "[nltk_data] Downloading package wordnet to /Users/Aymeric/nltk_data...\n",
      "[nltk_data]   Package wordnet is already up-to-date!\n"
     ]
    }
   ],
   "source": [
    "import pandas as pd \n",
    "import numpy as np\n",
    "import re\n",
    "from nltk.tokenize import RegexpTokenizer\n",
    "\n",
    "import nltk\n",
    "nltk.download('stopwords')\n",
    "nltk.download('wordnet')\n",
    "\n",
    "from sklearn.feature_extraction.text import CountVectorizer, TfidfVectorizer\n",
    "from sklearn.model_selection import train_test_split, cross_val_score, GridSearchCV\n",
    "from sklearn.pipeline import Pipeline\n",
    "from sklearn.linear_model import LogisticRegression\n",
    "from sklearn.neighbors import KNeighborsClassifier\n",
    "from sklearn.naive_bayes import MultinomialNB\n",
    "\n",
    "from sklearn.metrics import accuracy_score\n",
    "from sklearn.metrics import precision_recall_fscore_support"
   ]
  },
  {
   "cell_type": "code",
   "execution_count": 5,
   "metadata": {
    "collapsed": true
   },
   "outputs": [],
   "source": [
    "pd.options.display.max_colwidth = 280\n",
    "pd.set_option('display.max_rows', 200)"
   ]
  },
  {
   "cell_type": "code",
   "execution_count": 6,
   "metadata": {
    "collapsed": true
   },
   "outputs": [],
   "source": [
    "data16 = pd.read_csv(\"covid19/2020-04-16.csv\") "
   ]
  },
  {
   "cell_type": "code",
   "execution_count": 7,
   "metadata": {
    "collapsed": true
   },
   "outputs": [],
   "source": [
    "data17 = pd.read_csv(\"covid19/2020-04-17.csv\") \n",
    "data18 = pd.read_csv(\"covid19/2020-04-18.csv\") \n",
    "data19 = pd.read_csv(\"covid19/2020-04-19.csv\") \n",
    "data20 = pd.read_csv(\"covid19/2020-04-20.csv\") \n",
    "data21 = pd.read_csv(\"covid19/2020-04-21.csv\") \n",
    "data22 = pd.read_csv(\"covid19/2020-04-22.csv\") \n",
    "data23 = pd.read_csv(\"covid19/2020-04-23.csv\") \n",
    "data24 = pd.read_csv(\"covid19/2020-04-24.csv\") \n",
    "data25 = pd.read_csv(\"covid19/2020-04-25.csv\") \n",
    "data26 = pd.read_csv(\"covid19/2020-04-26.csv\") \n",
    "data27 = pd.read_csv(\"covid19/2020-04-27.csv\") \n",
    "data28 = pd.read_csv(\"covid19/2020-04-28.csv\") \n",
    "data29 = pd.read_csv(\"covid19/2020-04-29.csv\") \n",
    "data30 = pd.read_csv(\"covid19/2020-04-30.csv\") "
   ]
  },
  {
   "cell_type": "code",
   "execution_count": 8,
   "metadata": {
    "collapsed": true
   },
   "outputs": [],
   "source": [
    "data16 = data16[data16['lang']=='en']['text']"
   ]
  },
  {
   "cell_type": "code",
   "execution_count": 9,
   "metadata": {
    "collapsed": true
   },
   "outputs": [],
   "source": [
    "data17 = data17[data17['lang']=='en']['text']\n",
    "data18 = data18[data18['lang']=='en']['text']\n",
    "data19 = data19[data19['lang']=='en']['text']\n",
    "data20 = data20[data20['lang']=='en']['text']\n",
    "data21 = data21[data21['lang']=='en']['text']\n",
    "data22 = data22[data22['lang']=='en']['text']\n",
    "data23 = data23[data23['lang']=='en']['text']\n",
    "data24 = data24[data24['lang']=='en']['text']\n",
    "data25 = data25[data25['lang']=='en']['text']\n",
    "data26 = data26[data26['lang']=='en']['text']\n",
    "data27 = data27[data27['lang']=='en']['text']\n",
    "data28 = data28[data28['lang']=='en']['text']\n",
    "data29 = data29[data29['lang']=='en']['text']\n",
    "data30 = data30[data30['lang']=='en']['text']"
   ]
  },
  {
   "cell_type": "code",
   "execution_count": 10,
   "metadata": {
    "collapsed": true
   },
   "outputs": [],
   "source": [
    "df16 = pd.DataFrame(data=data16, columns=['text'])\n",
    "df17 = pd.DataFrame(data=data17, columns=['text'])\n",
    "df18 = pd.DataFrame(data=data18, columns=['text'])\n",
    "df19 = pd.DataFrame(data=data19, columns=['text'])\n",
    "df20 = pd.DataFrame(data=data20, columns=['text'])\n",
    "df21 = pd.DataFrame(data=data21, columns=['text'])\n",
    "df22 = pd.DataFrame(data=data22, columns=['text'])\n",
    "df23 = pd.DataFrame(data=data23, columns=['text'])\n",
    "df24 = pd.DataFrame(data=data24, columns=['text'])\n",
    "df25 = pd.DataFrame(data=data25, columns=['text'])\n",
    "df26 = pd.DataFrame(data=data26, columns=['text'])\n",
    "df27 = pd.DataFrame(data=data27, columns=['text'])\n",
    "df28 = pd.DataFrame(data=data28, columns=['text'])\n",
    "df29 = pd.DataFrame(data=data29, columns=['text'])\n",
    "df30 = pd.DataFrame(data=data30, columns=['text'])"
   ]
  },
  {
   "cell_type": "code",
   "execution_count": 11,
   "metadata": {
    "collapsed": true
   },
   "outputs": [],
   "source": [
    "df = pd.concat([df16,df17,df18,df19,df20,df21,df22,df23,df24,df25,df26,df27,df28,df29,df30])"
   ]
  },
  {
   "cell_type": "code",
   "execution_count": 12,
   "metadata": {},
   "outputs": [
    {
     "data": {
      "text/html": [
       "<div>\n",
       "<style>\n",
       "    .dataframe thead tr:only-child th {\n",
       "        text-align: right;\n",
       "    }\n",
       "\n",
       "    .dataframe thead th {\n",
       "        text-align: left;\n",
       "    }\n",
       "\n",
       "    .dataframe tbody tr th {\n",
       "        vertical-align: top;\n",
       "    }\n",
       "</style>\n",
       "<table border=\"1\" class=\"dataframe\">\n",
       "  <thead>\n",
       "    <tr style=\"text-align: right;\">\n",
       "      <th></th>\n",
       "      <th>text</th>\n",
       "    </tr>\n",
       "  </thead>\n",
       "  <tbody>\n",
       "    <tr>\n",
       "      <th>5</th>\n",
       "      <td>G20 agrees to debt relief for poorest countries amid pandemic #COVID19 https://t.co/TDOwhg4Amd</td>\n",
       "    </tr>\n",
       "    <tr>\n",
       "      <th>7</th>\n",
       "      <td>B.C. health officials are urging people to kind and not jump to conclusions about travellers amid the #COVID19 pandemic. #Shuswap #kamloops https://t.co/GvIa7xXszv https://t.co/ZywH7k28d2</td>\n",
       "    </tr>\n",
       "    <tr>\n",
       "      <th>9</th>\n",
       "      <td>The Lovely Lisa Ann Joins The Show LIVE From NYC!! - @thereallisaann \\n\\n@RonDiazWDAE @IanBeckles @jayRecher \\n\\n#NFL #MLB #COVID19 #Coronavirus \\n\\nLISTEN \\nhttps://t.co/2FF1qOng25</td>\n",
       "    </tr>\n",
       "    <tr>\n",
       "      <th>10</th>\n",
       "      <td>@allisonnamias @ArriolaLR As @ethanbdm referenced, just saw this op-ed version on Ebola lessons for #COVID19 from @KateBaicker and Oeindrila Dube https://t.co/gLNq6CAzhW</td>\n",
       "    </tr>\n",
       "    <tr>\n",
       "      <th>11</th>\n",
       "      <td>Study suggests higher rates of co-infection between #SARSCoV2 and other respiratory pathogens than previously reported https://t.co/oO3qd3RKnr #COVID19 #Coronavirus</td>\n",
       "    </tr>\n",
       "  </tbody>\n",
       "</table>\n",
       "</div>"
      ],
      "text/plain": [
       "                                                                                                                                                                                           text\n",
       "5                                                                                                G20 agrees to debt relief for poorest countries amid pandemic #COVID19 https://t.co/TDOwhg4Amd\n",
       "7   B.C. health officials are urging people to kind and not jump to conclusions about travellers amid the #COVID19 pandemic. #Shuswap #kamloops https://t.co/GvIa7xXszv https://t.co/ZywH7k28d2\n",
       "9         The Lovely Lisa Ann Joins The Show LIVE From NYC!! - @thereallisaann \\n\\n@RonDiazWDAE @IanBeckles @jayRecher \\n\\n#NFL #MLB #COVID19 #Coronavirus \\n\\nLISTEN \\nhttps://t.co/2FF1qOng25\n",
       "10                    @allisonnamias @ArriolaLR As @ethanbdm referenced, just saw this op-ed version on Ebola lessons for #COVID19 from @KateBaicker and Oeindrila Dube https://t.co/gLNq6CAzhW\n",
       "11                         Study suggests higher rates of co-infection between #SARSCoV2 and other respiratory pathogens than previously reported https://t.co/oO3qd3RKnr #COVID19 #Coronavirus"
      ]
     },
     "execution_count": 12,
     "metadata": {},
     "output_type": "execute_result"
    }
   ],
   "source": [
    "df.head()"
   ]
  },
  {
   "cell_type": "code",
   "execution_count": 13,
   "metadata": {},
   "outputs": [
    {
     "data": {
      "text/plain": [
       "(3306413, 1)"
      ]
     },
     "execution_count": 13,
     "metadata": {},
     "output_type": "execute_result"
    }
   ],
   "source": [
    "df.shape"
   ]
  },
  {
   "cell_type": "code",
   "execution_count": 14,
   "metadata": {
    "collapsed": true
   },
   "outputs": [],
   "source": [
    "df['alegria'] = df['text'].apply(lambda x: len(list(re.finditer(u'[\\U0001F601-\\U0001F606]|\\U0001F609|\\U0001F60A', str(x)))) > 0)"
   ]
  },
  {
   "cell_type": "code",
   "execution_count": 15,
   "metadata": {
    "collapsed": true
   },
   "outputs": [],
   "source": [
    "df['tristeza'] = df['text'].apply(lambda x: len(list(re.finditer(u'\\U0001F613|\\U0001F616|\\U0001F622|\\U0001F62D|\\U0001F630|\\U0001F631|\\U0001F64D|\\U0001F64E', str(x)))) > 0)"
   ]
  },
  {
   "cell_type": "code",
   "execution_count": 16,
   "metadata": {
    "collapsed": true
   },
   "outputs": [],
   "source": [
    "df['enojo'] = df['text'].apply(lambda x: len(list(re.finditer(u'\\U0001F620|\\U0001F621|\\U0001F624U|\\U0001F92C|\\U0001F480|\\U00012620', str(x)))) > 0)"
   ]
  },
  {
   "cell_type": "code",
   "execution_count": 17,
   "metadata": {
    "collapsed": true
   },
   "outputs": [],
   "source": [
    "df['apoyo'] = df['text'].apply(lambda x: len(list(re.finditer(u'\\U0001F637|\\U0001F64B|\\U0001F64C|\\U0001F64F', str(x)))) > 0)"
   ]
  },
  {
   "cell_type": "code",
   "execution_count": 18,
   "metadata": {
    "collapsed": true
   },
   "outputs": [],
   "source": [
    "df = df[['text','alegria','tristeza','enojo','apoyo']]"
   ]
  },
  {
   "cell_type": "code",
   "execution_count": 19,
   "metadata": {},
   "outputs": [
    {
     "data": {
      "text/html": [
       "<div>\n",
       "<style>\n",
       "    .dataframe thead tr:only-child th {\n",
       "        text-align: right;\n",
       "    }\n",
       "\n",
       "    .dataframe thead th {\n",
       "        text-align: left;\n",
       "    }\n",
       "\n",
       "    .dataframe tbody tr th {\n",
       "        vertical-align: top;\n",
       "    }\n",
       "</style>\n",
       "<table border=\"1\" class=\"dataframe\">\n",
       "  <thead>\n",
       "    <tr style=\"text-align: right;\">\n",
       "      <th></th>\n",
       "      <th>text</th>\n",
       "      <th>alegria</th>\n",
       "      <th>tristeza</th>\n",
       "      <th>enojo</th>\n",
       "      <th>apoyo</th>\n",
       "    </tr>\n",
       "  </thead>\n",
       "  <tbody>\n",
       "    <tr>\n",
       "      <th>5</th>\n",
       "      <td>G20 agrees to debt relief for poorest countries amid pandemic #COVID19 https://t.co/TDOwhg4Amd</td>\n",
       "      <td>False</td>\n",
       "      <td>False</td>\n",
       "      <td>False</td>\n",
       "      <td>False</td>\n",
       "    </tr>\n",
       "    <tr>\n",
       "      <th>7</th>\n",
       "      <td>B.C. health officials are urging people to kind and not jump to conclusions about travellers amid the #COVID19 pandemic. #Shuswap #kamloops https://t.co/GvIa7xXszv https://t.co/ZywH7k28d2</td>\n",
       "      <td>False</td>\n",
       "      <td>False</td>\n",
       "      <td>False</td>\n",
       "      <td>False</td>\n",
       "    </tr>\n",
       "    <tr>\n",
       "      <th>9</th>\n",
       "      <td>The Lovely Lisa Ann Joins The Show LIVE From NYC!! - @thereallisaann \\n\\n@RonDiazWDAE @IanBeckles @jayRecher \\n\\n#NFL #MLB #COVID19 #Coronavirus \\n\\nLISTEN \\nhttps://t.co/2FF1qOng25</td>\n",
       "      <td>False</td>\n",
       "      <td>False</td>\n",
       "      <td>False</td>\n",
       "      <td>False</td>\n",
       "    </tr>\n",
       "    <tr>\n",
       "      <th>10</th>\n",
       "      <td>@allisonnamias @ArriolaLR As @ethanbdm referenced, just saw this op-ed version on Ebola lessons for #COVID19 from @KateBaicker and Oeindrila Dube https://t.co/gLNq6CAzhW</td>\n",
       "      <td>False</td>\n",
       "      <td>False</td>\n",
       "      <td>False</td>\n",
       "      <td>False</td>\n",
       "    </tr>\n",
       "    <tr>\n",
       "      <th>11</th>\n",
       "      <td>Study suggests higher rates of co-infection between #SARSCoV2 and other respiratory pathogens than previously reported https://t.co/oO3qd3RKnr #COVID19 #Coronavirus</td>\n",
       "      <td>False</td>\n",
       "      <td>False</td>\n",
       "      <td>False</td>\n",
       "      <td>False</td>\n",
       "    </tr>\n",
       "  </tbody>\n",
       "</table>\n",
       "</div>"
      ],
      "text/plain": [
       "                                                                                                                                                                                           text  \\\n",
       "5                                                                                                G20 agrees to debt relief for poorest countries amid pandemic #COVID19 https://t.co/TDOwhg4Amd   \n",
       "7   B.C. health officials are urging people to kind and not jump to conclusions about travellers amid the #COVID19 pandemic. #Shuswap #kamloops https://t.co/GvIa7xXszv https://t.co/ZywH7k28d2   \n",
       "9         The Lovely Lisa Ann Joins The Show LIVE From NYC!! - @thereallisaann \\n\\n@RonDiazWDAE @IanBeckles @jayRecher \\n\\n#NFL #MLB #COVID19 #Coronavirus \\n\\nLISTEN \\nhttps://t.co/2FF1qOng25   \n",
       "10                    @allisonnamias @ArriolaLR As @ethanbdm referenced, just saw this op-ed version on Ebola lessons for #COVID19 from @KateBaicker and Oeindrila Dube https://t.co/gLNq6CAzhW   \n",
       "11                         Study suggests higher rates of co-infection between #SARSCoV2 and other respiratory pathogens than previously reported https://t.co/oO3qd3RKnr #COVID19 #Coronavirus   \n",
       "\n",
       "    alegria  tristeza  enojo  apoyo  \n",
       "5     False     False  False  False  \n",
       "7     False     False  False  False  \n",
       "9     False     False  False  False  \n",
       "10    False     False  False  False  \n",
       "11    False     False  False  False  "
      ]
     },
     "execution_count": 19,
     "metadata": {},
     "output_type": "execute_result"
    }
   ],
   "source": [
    "df.head()"
   ]
  },
  {
   "cell_type": "code",
   "execution_count": 20,
   "metadata": {},
   "outputs": [],
   "source": [
    "def data_preprocessing(source):\n",
    "    source = source.lower()\n",
    "    source = source.replace(',', ' ')\n",
    "    source = source.replace('\\n', ' ')\n",
    "    source = source.replace('\\r', '')\n",
    "    source = re.sub(r'http\\S+', '@URL', source)   #Links\n",
    "    source = re.sub(r'\\b\\d\\S+', '@NUM', source)   #Dates, Num\n",
    "    source = source.replace('#coronavirus', '') \n",
    "    source = source.replace('#coronavirusoutbreak', '') \n",
    "    source = source.replace('#coronavirusPandemic', '') \n",
    "    source = source.replace('#covid19', '') \n",
    "    source = source.replace('#covid_19,,', '') \n",
    "    source = source.replace('#epitwitter', '') \n",
    "    source = source.replace('#ihavecorona', '') \n",
    "    source = source.replace('#StayHomeStaySafe', '') \n",
    "    source = source.replace('#TestTraceIsolate', '') \n",
    "    source = source.replace('\\U0001F601', '') \n",
    "    source = source.replace('\\U0001F602', '') \n",
    "    source = source.replace('\\U0001F603', '') \n",
    "    source = source.replace('\\U0001F604', '') \n",
    "    source = source.replace('\\U0001F605', '') \n",
    "    source = source.replace('\\U0001F606', '') \n",
    "    source = source.replace('\\U0001F609', '') \n",
    "    source = source.replace('\\U0001F60A', '') \n",
    "    source = source.replace('\\U0001F616', '') \n",
    "    source = source.replace('\\U0001F621', '') \n",
    "    source = source.replace('\\U0001F622', '') \n",
    "    source = source.replace('\\U0001F62D', '') \n",
    "    source = source.replace('\\U0001F630', '') \n",
    "    source = source.replace('\\U0001F631', '') \n",
    "    source = source.replace('\\U0001F64D', '') \n",
    "    source = source.replace('\\U0001F64E', '') \n",
    "    source = source.replace('\\U0001F620', '') \n",
    "    source = source.replace('\\U0001F621', '') \n",
    "    source = source.replace('\\U0001F624', '') \n",
    "    source = source.replace('\\U0001F637', '') \n",
    "    source = source.replace('\\U0001F64B', '') \n",
    "    source = source.replace('\\U0001F64C', '') \n",
    "    source = source.replace('\\U0001F64F', '') \n",
    "    source = source.replace('\\U0001F92C', '')\n",
    "    source = source.replace('\\U0001F480', '') \n",
    "    source = source.replace('\\U00012620', '') \n",
    "    return source"
   ]
  },
  {
   "cell_type": "code",
   "execution_count": 21,
   "metadata": {
    "collapsed": true
   },
   "outputs": [],
   "source": [
    "df.loc[:,'text'] = df['text'].map(lambda x: data_preprocessing(x))"
   ]
  },
  {
   "cell_type": "code",
   "execution_count": 22,
   "metadata": {
    "collapsed": true
   },
   "outputs": [],
   "source": [
    "def tokenize(x):\n",
    "    tokenizer = RegexpTokenizer(r'\\w+')\n",
    "    return tokenizer.tokenize(x)\n",
    "\n",
    "df['tokens'] = df['text'].map(tokenize)"
   ]
  },
  {
   "cell_type": "code",
   "execution_count": 23,
   "metadata": {},
   "outputs": [
    {
     "data": {
      "text/html": [
       "<div>\n",
       "<style>\n",
       "    .dataframe thead tr:only-child th {\n",
       "        text-align: right;\n",
       "    }\n",
       "\n",
       "    .dataframe thead th {\n",
       "        text-align: left;\n",
       "    }\n",
       "\n",
       "    .dataframe tbody tr th {\n",
       "        vertical-align: top;\n",
       "    }\n",
       "</style>\n",
       "<table border=\"1\" class=\"dataframe\">\n",
       "  <thead>\n",
       "    <tr style=\"text-align: right;\">\n",
       "      <th></th>\n",
       "      <th>text</th>\n",
       "      <th>alegria</th>\n",
       "      <th>tristeza</th>\n",
       "      <th>enojo</th>\n",
       "      <th>apoyo</th>\n",
       "      <th>tokens</th>\n",
       "    </tr>\n",
       "  </thead>\n",
       "  <tbody>\n",
       "    <tr>\n",
       "      <th>5</th>\n",
       "      <td>g20 agrees to debt relief for poorest countries amid pandemic  @URL</td>\n",
       "      <td>False</td>\n",
       "      <td>False</td>\n",
       "      <td>False</td>\n",
       "      <td>False</td>\n",
       "      <td>[g20, agrees, to, debt, relief, for, poorest, countries, amid, pandemic, URL]</td>\n",
       "    </tr>\n",
       "    <tr>\n",
       "      <th>7</th>\n",
       "      <td>b.c. health officials are urging people to kind and not jump to conclusions about travellers amid the  pandemic. #shuswap #kamloops @URL @URL</td>\n",
       "      <td>False</td>\n",
       "      <td>False</td>\n",
       "      <td>False</td>\n",
       "      <td>False</td>\n",
       "      <td>[b, c, health, officials, are, urging, people, to, kind, and, not, jump, to, conclusions, about, travellers, amid, the, pandemic, shuswap, kamloops, URL, URL]</td>\n",
       "    </tr>\n",
       "    <tr>\n",
       "      <th>9</th>\n",
       "      <td>the lovely lisa ann joins the show live from nyc!! - @thereallisaann   @rondiazwdae @ianbeckles @jayrecher   #nfl #mlb     listen  @URL</td>\n",
       "      <td>False</td>\n",
       "      <td>False</td>\n",
       "      <td>False</td>\n",
       "      <td>False</td>\n",
       "      <td>[the, lovely, lisa, ann, joins, the, show, live, from, nyc, thereallisaann, rondiazwdae, ianbeckles, jayrecher, nfl, mlb, listen, URL]</td>\n",
       "    </tr>\n",
       "    <tr>\n",
       "      <th>10</th>\n",
       "      <td>@allisonnamias @arriolalr as @ethanbdm referenced  just saw this op-ed version on ebola lessons for  from @katebaicker and oeindrila dube @URL</td>\n",
       "      <td>False</td>\n",
       "      <td>False</td>\n",
       "      <td>False</td>\n",
       "      <td>False</td>\n",
       "      <td>[allisonnamias, arriolalr, as, ethanbdm, referenced, just, saw, this, op, ed, version, on, ebola, lessons, for, from, katebaicker, and, oeindrila, dube, URL]</td>\n",
       "    </tr>\n",
       "    <tr>\n",
       "      <th>11</th>\n",
       "      <td>study suggests higher rates of co-infection between #sarscov2 and other respiratory pathogens than previously reported @URL</td>\n",
       "      <td>False</td>\n",
       "      <td>False</td>\n",
       "      <td>False</td>\n",
       "      <td>False</td>\n",
       "      <td>[study, suggests, higher, rates, of, co, infection, between, sarscov2, and, other, respiratory, pathogens, than, previously, reported, URL]</td>\n",
       "    </tr>\n",
       "  </tbody>\n",
       "</table>\n",
       "</div>"
      ],
      "text/plain": [
       "                                                                                                                                              text  \\\n",
       "5                                                                              g20 agrees to debt relief for poorest countries amid pandemic  @URL   \n",
       "7    b.c. health officials are urging people to kind and not jump to conclusions about travellers amid the  pandemic. #shuswap #kamloops @URL @URL   \n",
       "9          the lovely lisa ann joins the show live from nyc!! - @thereallisaann   @rondiazwdae @ianbeckles @jayrecher   #nfl #mlb     listen  @URL   \n",
       "10  @allisonnamias @arriolalr as @ethanbdm referenced  just saw this op-ed version on ebola lessons for  from @katebaicker and oeindrila dube @URL   \n",
       "11                   study suggests higher rates of co-infection between #sarscov2 and other respiratory pathogens than previously reported @URL     \n",
       "\n",
       "    alegria  tristeza  enojo  apoyo  \\\n",
       "5     False     False  False  False   \n",
       "7     False     False  False  False   \n",
       "9     False     False  False  False   \n",
       "10    False     False  False  False   \n",
       "11    False     False  False  False   \n",
       "\n",
       "                                                                                                                                                            tokens  \n",
       "5                                                                                    [g20, agrees, to, debt, relief, for, poorest, countries, amid, pandemic, URL]  \n",
       "7   [b, c, health, officials, are, urging, people, to, kind, and, not, jump, to, conclusions, about, travellers, amid, the, pandemic, shuswap, kamloops, URL, URL]  \n",
       "9                           [the, lovely, lisa, ann, joins, the, show, live, from, nyc, thereallisaann, rondiazwdae, ianbeckles, jayrecher, nfl, mlb, listen, URL]  \n",
       "10   [allisonnamias, arriolalr, as, ethanbdm, referenced, just, saw, this, op, ed, version, on, ebola, lessons, for, from, katebaicker, and, oeindrila, dube, URL]  \n",
       "11                     [study, suggests, higher, rates, of, co, infection, between, sarscov2, and, other, respiratory, pathogens, than, previously, reported, URL]  "
      ]
     },
     "execution_count": 23,
     "metadata": {},
     "output_type": "execute_result"
    }
   ],
   "source": [
    "df.head()"
   ]
  },
  {
   "cell_type": "code",
   "execution_count": 22,
   "metadata": {
    "collapsed": true
   },
   "outputs": [],
   "source": [
    "df_train = df.loc[(df['alegria']>0) ^ (df['tristeza']>0) ^ (df['enojo']>0) ^ (df['apoyo']>0)]"
   ]
  },
  {
   "cell_type": "code",
   "execution_count": 77,
   "metadata": {},
   "outputs": [
    {
     "data": {
      "text/plain": [
       "(3306413, 7)"
      ]
     },
     "execution_count": 77,
     "metadata": {},
     "output_type": "execute_result"
    }
   ],
   "source": [
    "df.shape"
   ]
  },
  {
   "cell_type": "code",
   "execution_count": 72,
   "metadata": {},
   "outputs": [
    {
     "data": {
      "text/plain": [
       "3.0    51230\n",
       "0.0    35887\n",
       "1.0    12522\n",
       "2.0     8047\n",
       "Name: category, dtype: int64"
      ]
     },
     "execution_count": 72,
     "metadata": {},
     "output_type": "execute_result"
    }
   ],
   "source": [
    "df.category.value_counts()"
   ]
  },
  {
   "cell_type": "code",
   "execution_count": 79,
   "metadata": {},
   "outputs": [
    {
     "data": {
      "text/plain": [
       "3198727"
      ]
     },
     "execution_count": 79,
     "metadata": {},
     "output_type": "execute_result"
    }
   ],
   "source": [
    "3306413 - (51230 + 35887 + 12522 + 8047) # Number of tweets that are not clasified"
   ]
  },
  {
   "cell_type": "code",
   "execution_count": 23,
   "metadata": {
    "collapsed": true
   },
   "outputs": [],
   "source": [
    "#df_train.to_csv('out.csv', encoding='utf-16', index=False)"
   ]
  },
  {
   "cell_type": "code",
   "execution_count": 24,
   "metadata": {
    "collapsed": true
   },
   "outputs": [],
   "source": [
    "def parse_values(x):\n",
    "    if x['alegria']:\n",
    "        return 0\n",
    "    elif x['tristeza']:\n",
    "        return 1\n",
    "    elif x['enojo']:\n",
    "        return 2\n",
    "    elif x['apoyo']:\n",
    "        return 3\n",
    "    else:\n",
    "        return None"
   ]
  },
  {
   "cell_type": "code",
   "execution_count": 25,
   "metadata": {},
   "outputs": [
    {
     "name": "stderr",
     "output_type": "stream",
     "text": [
      "/Users/Aymeric/opt/anaconda3/envs/pandas_env/lib/python3.6/site-packages/pandas/core/indexing.py:337: SettingWithCopyWarning: \n",
      "A value is trying to be set on a copy of a slice from a DataFrame.\n",
      "Try using .loc[row_indexer,col_indexer] = value instead\n",
      "\n",
      "See the caveats in the documentation: http://pandas.pydata.org/pandas-docs/stable/indexing.html#indexing-view-versus-copy\n",
      "  self.obj[key] = _infer_fill_value(value)\n",
      "/Users/Aymeric/opt/anaconda3/envs/pandas_env/lib/python3.6/site-packages/pandas/core/indexing.py:517: SettingWithCopyWarning: \n",
      "A value is trying to be set on a copy of a slice from a DataFrame.\n",
      "Try using .loc[row_indexer,col_indexer] = value instead\n",
      "\n",
      "See the caveats in the documentation: http://pandas.pydata.org/pandas-docs/stable/indexing.html#indexing-view-versus-copy\n",
      "  self.obj[item] = s\n"
     ]
    }
   ],
   "source": [
    "df_train.loc[:,'category'] = df_train.apply(parse_values, axis=1)"
   ]
  },
  {
   "cell_type": "code",
   "execution_count": 26,
   "metadata": {
    "collapsed": true
   },
   "outputs": [],
   "source": [
    "df.loc[:,'category'] = df.apply(parse_values, axis=1)"
   ]
  },
  {
   "cell_type": "code",
   "execution_count": 27,
   "metadata": {},
   "outputs": [
    {
     "data": {
      "text/html": [
       "<div>\n",
       "<style>\n",
       "    .dataframe thead tr:only-child th {\n",
       "        text-align: right;\n",
       "    }\n",
       "\n",
       "    .dataframe thead th {\n",
       "        text-align: left;\n",
       "    }\n",
       "\n",
       "    .dataframe tbody tr th {\n",
       "        vertical-align: top;\n",
       "    }\n",
       "</style>\n",
       "<table border=\"1\" class=\"dataframe\">\n",
       "  <thead>\n",
       "    <tr style=\"text-align: right;\">\n",
       "      <th></th>\n",
       "      <th>text</th>\n",
       "      <th>alegria</th>\n",
       "      <th>tristeza</th>\n",
       "      <th>enojo</th>\n",
       "      <th>apoyo</th>\n",
       "      <th>tokens</th>\n",
       "      <th>category</th>\n",
       "    </tr>\n",
       "  </thead>\n",
       "  <tbody>\n",
       "    <tr>\n",
       "      <th>460</th>\n",
       "      <td>robin sparkles: 🎶 don't go to the mall. at all.  get the reference?   #howimetyourmother</td>\n",
       "      <td>True</td>\n",
       "      <td>False</td>\n",
       "      <td>False</td>\n",
       "      <td>False</td>\n",
       "      <td>[robin, sparkles, don, t, go, to, the, mall, at, all, get, the, reference, howimetyourmother]</td>\n",
       "      <td>0</td>\n",
       "    </tr>\n",
       "    <tr>\n",
       "      <th>713</th>\n",
       "      <td>\".....there are holes in the safety net in the shape of people..\"  @shanekoyczan  #google #animalcrossing  🏾🏾🏾   @URL</td>\n",
       "      <td>False</td>\n",
       "      <td>False</td>\n",
       "      <td>False</td>\n",
       "      <td>True</td>\n",
       "      <td>[there, are, holes, in, the, safety, net, in, the, shape, of, people, shanekoyczan, google, animalcrossing, URL]</td>\n",
       "      <td>3</td>\n",
       "    </tr>\n",
       "    <tr>\n",
       "      <th>754</th>\n",
       "      <td>the washington national cathedral is lit up in blue every night this week to thank our healthcare workers 🩺🥼 #covid  #healthcareworkers #thankyou  @URL</td>\n",
       "      <td>False</td>\n",
       "      <td>False</td>\n",
       "      <td>False</td>\n",
       "      <td>True</td>\n",
       "      <td>[the, washington, national, cathedral, is, lit, up, in, blue, every, night, this, week, to, thank, our, healthcare, workers, covid, healthcareworkers, thankyou, URL]</td>\n",
       "      <td>3</td>\n",
       "    </tr>\n",
       "    <tr>\n",
       "      <th>786</th>\n",
       "      <td>my heart ❤️ and prayers  go out to everyone in the @wwe   we're all in this together 👉👈💖  does not win we can and will overcome this 👉👈 #wwefamily #wweforever</td>\n",
       "      <td>False</td>\n",
       "      <td>False</td>\n",
       "      <td>False</td>\n",
       "      <td>True</td>\n",
       "      <td>[my, heart, and, prayers, go, out, to, everyone, in, the, wwe, we, re, all, in, this, together, does, not, win, we, can, and, will, overcome, this, wwefamily, wweforever]</td>\n",
       "      <td>3</td>\n",
       "    </tr>\n",
       "    <tr>\n",
       "      <th>821</th>\n",
       "      <td>to all my family members  friends  and everyone out there  please #staysafe  #stayhome and help to #flattenthecurve to defeat  or ms rona like they call it in #yankee lol</td>\n",
       "      <td>True</td>\n",
       "      <td>False</td>\n",
       "      <td>False</td>\n",
       "      <td>False</td>\n",
       "      <td>[to, all, my, family, members, friends, and, everyone, out, there, please, staysafe, stayhome, and, help, to, flattenthecurve, to, defeat, or, ms, rona, like, they, call, it, in, yankee, lol]</td>\n",
       "      <td>0</td>\n",
       "    </tr>\n",
       "  </tbody>\n",
       "</table>\n",
       "</div>"
      ],
      "text/plain": [
       "                                                                                                                                                                            text  \\\n",
       "460                                                                                    robin sparkles: 🎶 don't go to the mall. at all.  get the reference?   #howimetyourmother    \n",
       "713                                                        \".....there are holes in the safety net in the shape of people..\"  @shanekoyczan  #google #animalcrossing  🏾🏾🏾   @URL   \n",
       "754                      the washington national cathedral is lit up in blue every night this week to thank our healthcare workers 🩺🥼 #covid  #healthcareworkers #thankyou  @URL   \n",
       "786               my heart ❤️ and prayers  go out to everyone in the @wwe   we're all in this together 👉👈💖  does not win we can and will overcome this 👉👈 #wwefamily #wweforever   \n",
       "821  to all my family members  friends  and everyone out there  please #staysafe  #stayhome and help to #flattenthecurve to defeat  or ms rona like they call it in #yankee lol    \n",
       "\n",
       "     alegria  tristeza  enojo  apoyo  \\\n",
       "460     True     False  False  False   \n",
       "713    False     False  False   True   \n",
       "754    False     False  False   True   \n",
       "786    False     False  False   True   \n",
       "821     True     False  False  False   \n",
       "\n",
       "                                                                                                                                                                                              tokens  \\\n",
       "460                                                                                                    [robin, sparkles, don, t, go, to, the, mall, at, all, get, the, reference, howimetyourmother]   \n",
       "713                                                                                 [there, are, holes, in, the, safety, net, in, the, shape, of, people, shanekoyczan, google, animalcrossing, URL]   \n",
       "754                            [the, washington, national, cathedral, is, lit, up, in, blue, every, night, this, week, to, thank, our, healthcare, workers, covid, healthcareworkers, thankyou, URL]   \n",
       "786                       [my, heart, and, prayers, go, out, to, everyone, in, the, wwe, we, re, all, in, this, together, does, not, win, we, can, and, will, overcome, this, wwefamily, wweforever]   \n",
       "821  [to, all, my, family, members, friends, and, everyone, out, there, please, staysafe, stayhome, and, help, to, flattenthecurve, to, defeat, or, ms, rona, like, they, call, it, in, yankee, lol]   \n",
       "\n",
       "     category  \n",
       "460         0  \n",
       "713         3  \n",
       "754         3  \n",
       "786         3  \n",
       "821         0  "
      ]
     },
     "execution_count": 27,
     "metadata": {},
     "output_type": "execute_result"
    }
   ],
   "source": [
    "df_train.head()"
   ]
  },
  {
   "cell_type": "code",
   "execution_count": 55,
   "metadata": {},
   "outputs": [],
   "source": [
    "stop = stopwords.words('english')"
   ]
  },
  {
   "cell_type": "code",
   "execution_count": 57,
   "metadata": {},
   "outputs": [
    {
     "name": "stderr",
     "output_type": "stream",
     "text": [
      "/Users/Aymeric/opt/anaconda3/envs/pandas_env/lib/python3.6/site-packages/ipykernel_launcher.py:1: SettingWithCopyWarning: \n",
      "A value is trying to be set on a copy of a slice from a DataFrame.\n",
      "Try using .loc[row_indexer,col_indexer] = value instead\n",
      "\n",
      "See the caveats in the documentation: http://pandas.pydata.org/pandas-docs/stable/indexing.html#indexing-view-versus-copy\n",
      "  \"\"\"Entry point for launching an IPython kernel.\n"
     ]
    }
   ],
   "source": [
    "df_train['tokens'] = df_train['tokens'].apply(lambda x: [word for word in x if word not in (stop)])"
   ]
  },
  {
   "cell_type": "code",
   "execution_count": 58,
   "metadata": {},
   "outputs": [
    {
     "data": {
      "text/html": [
       "<div>\n",
       "<style>\n",
       "    .dataframe thead tr:only-child th {\n",
       "        text-align: right;\n",
       "    }\n",
       "\n",
       "    .dataframe thead th {\n",
       "        text-align: left;\n",
       "    }\n",
       "\n",
       "    .dataframe tbody tr th {\n",
       "        vertical-align: top;\n",
       "    }\n",
       "</style>\n",
       "<table border=\"1\" class=\"dataframe\">\n",
       "  <thead>\n",
       "    <tr style=\"text-align: right;\">\n",
       "      <th></th>\n",
       "      <th>text</th>\n",
       "      <th>alegria</th>\n",
       "      <th>tristeza</th>\n",
       "      <th>enojo</th>\n",
       "      <th>apoyo</th>\n",
       "      <th>tokens</th>\n",
       "      <th>category</th>\n",
       "    </tr>\n",
       "  </thead>\n",
       "  <tbody>\n",
       "    <tr>\n",
       "      <th>460</th>\n",
       "      <td>robin sparkles: 🎶 don't go to the mall. at all.  get the reference?   #howimetyourmother</td>\n",
       "      <td>True</td>\n",
       "      <td>False</td>\n",
       "      <td>False</td>\n",
       "      <td>False</td>\n",
       "      <td>[robin, sparkles, go, mall, get, reference, howimetyourmother]</td>\n",
       "      <td>0</td>\n",
       "    </tr>\n",
       "    <tr>\n",
       "      <th>713</th>\n",
       "      <td>\".....there are holes in the safety net in the shape of people..\"  @shanekoyczan  #google #animalcrossing  🏾🏾🏾   @URL</td>\n",
       "      <td>False</td>\n",
       "      <td>False</td>\n",
       "      <td>False</td>\n",
       "      <td>True</td>\n",
       "      <td>[holes, safety, net, shape, people, shanekoyczan, google, animalcrossing, URL]</td>\n",
       "      <td>3</td>\n",
       "    </tr>\n",
       "    <tr>\n",
       "      <th>754</th>\n",
       "      <td>the washington national cathedral is lit up in blue every night this week to thank our healthcare workers 🩺🥼 #covid  #healthcareworkers #thankyou  @URL</td>\n",
       "      <td>False</td>\n",
       "      <td>False</td>\n",
       "      <td>False</td>\n",
       "      <td>True</td>\n",
       "      <td>[washington, national, cathedral, lit, blue, every, night, week, thank, healthcare, workers, covid, healthcareworkers, thankyou, URL]</td>\n",
       "      <td>3</td>\n",
       "    </tr>\n",
       "    <tr>\n",
       "      <th>786</th>\n",
       "      <td>my heart ❤️ and prayers  go out to everyone in the @wwe   we're all in this together 👉👈💖  does not win we can and will overcome this 👉👈 #wwefamily #wweforever</td>\n",
       "      <td>False</td>\n",
       "      <td>False</td>\n",
       "      <td>False</td>\n",
       "      <td>True</td>\n",
       "      <td>[heart, prayers, go, everyone, wwe, together, win, overcome, wwefamily, wweforever]</td>\n",
       "      <td>3</td>\n",
       "    </tr>\n",
       "    <tr>\n",
       "      <th>821</th>\n",
       "      <td>to all my family members  friends  and everyone out there  please #staysafe  #stayhome and help to #flattenthecurve to defeat  or ms rona like they call it in #yankee lol</td>\n",
       "      <td>True</td>\n",
       "      <td>False</td>\n",
       "      <td>False</td>\n",
       "      <td>False</td>\n",
       "      <td>[family, members, friends, everyone, please, staysafe, stayhome, help, flattenthecurve, defeat, ms, rona, like, call, yankee, lol]</td>\n",
       "      <td>0</td>\n",
       "    </tr>\n",
       "  </tbody>\n",
       "</table>\n",
       "</div>"
      ],
      "text/plain": [
       "                                                                                                                                                                            text  \\\n",
       "460                                                                                    robin sparkles: 🎶 don't go to the mall. at all.  get the reference?   #howimetyourmother    \n",
       "713                                                        \".....there are holes in the safety net in the shape of people..\"  @shanekoyczan  #google #animalcrossing  🏾🏾🏾   @URL   \n",
       "754                      the washington national cathedral is lit up in blue every night this week to thank our healthcare workers 🩺🥼 #covid  #healthcareworkers #thankyou  @URL   \n",
       "786               my heart ❤️ and prayers  go out to everyone in the @wwe   we're all in this together 👉👈💖  does not win we can and will overcome this 👉👈 #wwefamily #wweforever   \n",
       "821  to all my family members  friends  and everyone out there  please #staysafe  #stayhome and help to #flattenthecurve to defeat  or ms rona like they call it in #yankee lol    \n",
       "\n",
       "     alegria  tristeza  enojo  apoyo  \\\n",
       "460     True     False  False  False   \n",
       "713    False     False  False   True   \n",
       "754    False     False  False   True   \n",
       "786    False     False  False   True   \n",
       "821     True     False  False  False   \n",
       "\n",
       "                                                                                                                                    tokens  \\\n",
       "460                                                                         [robin, sparkles, go, mall, get, reference, howimetyourmother]   \n",
       "713                                                         [holes, safety, net, shape, people, shanekoyczan, google, animalcrossing, URL]   \n",
       "754  [washington, national, cathedral, lit, blue, every, night, week, thank, healthcare, workers, covid, healthcareworkers, thankyou, URL]   \n",
       "786                                                    [heart, prayers, go, everyone, wwe, together, win, overcome, wwefamily, wweforever]   \n",
       "821     [family, members, friends, everyone, please, staysafe, stayhome, help, flattenthecurve, defeat, ms, rona, like, call, yankee, lol]   \n",
       "\n",
       "     category  \n",
       "460         0  \n",
       "713         3  \n",
       "754         3  \n",
       "786         3  \n",
       "821         0  "
      ]
     },
     "execution_count": 58,
     "metadata": {},
     "output_type": "execute_result"
    }
   ],
   "source": [
    "df_train.head()"
   ]
  },
  {
   "cell_type": "code",
   "execution_count": 60,
   "metadata": {
    "collapsed": true
   },
   "outputs": [],
   "source": [
    "def word_lemmatizer(text):\n",
    "    lem_text = [WordNetLemmatizer().lemmatize(i) for i in text]\n",
    "    return lem_text"
   ]
  },
  {
   "cell_type": "code",
   "execution_count": 64,
   "metadata": {},
   "outputs": [
    {
     "name": "stderr",
     "output_type": "stream",
     "text": [
      "/Users/Aymeric/opt/anaconda3/envs/pandas_env/lib/python3.6/site-packages/ipykernel_launcher.py:1: SettingWithCopyWarning: \n",
      "A value is trying to be set on a copy of a slice from a DataFrame.\n",
      "Try using .loc[row_indexer,col_indexer] = value instead\n",
      "\n",
      "See the caveats in the documentation: http://pandas.pydata.org/pandas-docs/stable/indexing.html#indexing-view-versus-copy\n",
      "  \"\"\"Entry point for launching an IPython kernel.\n"
     ]
    }
   ],
   "source": [
    "df_train['tokens'] = df_train['tokens'].apply(lambda x: word_lemmatizer(x))"
   ]
  },
  {
   "cell_type": "code",
   "execution_count": 65,
   "metadata": {},
   "outputs": [
    {
     "data": {
      "text/plain": [
       "3    51230\n",
       "0    32849\n",
       "1    10876\n",
       "2     7386\n",
       "Name: category, dtype: int64"
      ]
     },
     "execution_count": 65,
     "metadata": {},
     "output_type": "execute_result"
    }
   ],
   "source": [
    "df_train.category.value_counts()"
   ]
  },
  {
   "cell_type": "code",
   "execution_count": 80,
   "metadata": {},
   "outputs": [
    {
     "data": {
      "text/plain": [
       "5345"
      ]
     },
     "execution_count": 80,
     "metadata": {},
     "output_type": "execute_result"
    }
   ],
   "source": [
    "(51230 + 35887 + 12522 + 8047) - (51230 + 32849 + 10876 + 7386) # Number of tweets that have emoticons in 2 or more categories"
   ]
  },
  {
   "cell_type": "code",
   "execution_count": 82,
   "metadata": {},
   "outputs": [
    {
     "data": {
      "text/plain": [
       "(102341, 7)"
      ]
     },
     "execution_count": 82,
     "metadata": {},
     "output_type": "execute_result"
    }
   ],
   "source": [
    "df_train.shape # Number of text clasified"
   ]
  },
  {
   "cell_type": "code",
   "execution_count": 83,
   "metadata": {
    "collapsed": true
   },
   "outputs": [],
   "source": [
    "train_sample = df_train.groupby('category').apply(lambda s: s.sample(7386))"
   ]
  },
  {
   "cell_type": "code",
   "execution_count": 84,
   "metadata": {
    "collapsed": true
   },
   "outputs": [],
   "source": [
    "X = train_sample.text\n",
    "y = train_sample.category"
   ]
  },
  {
   "cell_type": "code",
   "execution_count": 85,
   "metadata": {},
   "outputs": [
    {
     "name": "stderr",
     "output_type": "stream",
     "text": [
      "/Users/Aymeric/opt/anaconda3/envs/pandas_env/lib/python3.6/site-packages/sklearn/model_selection/_split.py:2026: FutureWarning: From version 0.21, test_size will always complement train_size unless both are specified.\n",
      "  FutureWarning)\n"
     ]
    }
   ],
   "source": [
    "X_train, X_test, y_train, y_test = train_test_split(X, y, train_size=0.66)"
   ]
  },
  {
   "cell_type": "code",
   "execution_count": 86,
   "metadata": {},
   "outputs": [
    {
     "data": {
      "text/plain": [
       "GridSearchCV(cv=5, error_score='raise',\n",
       "       estimator=Pipeline(memory=None,\n",
       "     steps=[('tf', TfidfVectorizer(analyzer='word', binary=False, decode_error='strict',\n",
       "        dtype=<class 'numpy.int64'>, encoding='utf-8', input='content',\n",
       "        lowercase=True, max_df=1.0, max_features=None, min_df=1,\n",
       "        ngram_range=(1, 1), norm='l2', preprocessor=None, smooth_idf=True,\n",
       "    ...ue,\n",
       "        vocabulary=None)), ('mnnb', MultinomialNB(alpha=1.0, class_prior=None, fit_prior=True))]),\n",
       "       fit_params=None, iid=True, n_jobs=-1,\n",
       "       param_grid={'tf__max_features': [1000, 2000, 3000], 'tf__stop_words': ['english', None], 'tf__ngram_range': [(1, 1), (1, 2)], 'tf__use_idf': [True, False], 'mnnb__alpha': [0.1, 0.5, 1]},\n",
       "       pre_dispatch='2*n_jobs', refit=True, return_train_score='warn',\n",
       "       scoring=None, verbose=0)"
      ]
     },
     "execution_count": 86,
     "metadata": {},
     "output_type": "execute_result"
    }
   ],
   "source": [
    "pipe_mnnb = Pipeline(steps = [('tf', TfidfVectorizer()), ('mnnb', MultinomialNB())])\n",
    "\n",
    "pgrid_mnnb = {\n",
    " 'tf__max_features' : [1000, 2000, 3000],\n",
    " 'tf__stop_words' : ['english', None],\n",
    " 'tf__ngram_range' : [(1,1),(1,2)],\n",
    " 'tf__use_idf' : [True, False],\n",
    " 'mnnb__alpha' : [0.1, 0.5, 1]\n",
    "}\n",
    "\n",
    "gs_mnnb = GridSearchCV(pipe_mnnb,pgrid_mnnb,cv=5,n_jobs=-1)\n",
    "gs_mnnb.fit(X_train, y_train)"
   ]
  },
  {
   "cell_type": "code",
   "execution_count": 87,
   "metadata": {},
   "outputs": [
    {
     "data": {
      "text/plain": [
       "0.63023744807426019"
      ]
     },
     "execution_count": 87,
     "metadata": {},
     "output_type": "execute_result"
    }
   ],
   "source": [
    "gs_mnnb.score(X_train, y_train) #Accuracy score"
   ]
  },
  {
   "cell_type": "code",
   "execution_count": 88,
   "metadata": {},
   "outputs": [
    {
     "data": {
      "text/plain": [
       "0.55191637630662016"
      ]
     },
     "execution_count": 88,
     "metadata": {},
     "output_type": "execute_result"
    }
   ],
   "source": [
    "gs_mnnb.score(X_test, y_test)"
   ]
  },
  {
   "cell_type": "code",
   "execution_count": 89,
   "metadata": {},
   "outputs": [
    {
     "data": {
      "text/plain": [
       "(0.56462842770562371, 0.55204766553797802, 0.55222224970632916, None)"
      ]
     },
     "execution_count": 89,
     "metadata": {},
     "output_type": "execute_result"
    }
   ],
   "source": [
    "y_pred = gs_mnnb.predict(X_test)\n",
    "precision_recall_fscore_support(y_test, y_pred, average='macro')"
   ]
  },
  {
   "cell_type": "code",
   "execution_count": 90,
   "metadata": {
    "collapsed": true
   },
   "outputs": [],
   "source": [
    "X = df.text\n",
    "y = df.category"
   ]
  },
  {
   "cell_type": "code",
   "execution_count": 91,
   "metadata": {
    "collapsed": true
   },
   "outputs": [],
   "source": [
    "preds_mnnb = gs_mnnb.predict(X)\n",
    "df['preds'] = preds_mnnb"
   ]
  },
  {
   "cell_type": "code",
   "execution_count": 2,
   "metadata": {},
   "outputs": [
    {
     "ename": "NameError",
     "evalue": "name 'df' is not defined",
     "output_type": "error",
     "traceback": [
      "\u001b[0;31m---------------------------------------------------------------------------\u001b[0m",
      "\u001b[0;31mNameError\u001b[0m                                 Traceback (most recent call last)",
      "\u001b[0;32m<ipython-input-2-2569c44faf66>\u001b[0m in \u001b[0;36m<module>\u001b[0;34m()\u001b[0m\n\u001b[0;32m----> 1\u001b[0;31m \u001b[0mdf\u001b[0m\u001b[0;34m.\u001b[0m\u001b[0mhead\u001b[0m\u001b[0;34m(\u001b[0m\u001b[0;34m)\u001b[0m\u001b[0;34m\u001b[0m\u001b[0m\n\u001b[0m",
      "\u001b[0;31mNameError\u001b[0m: name 'df' is not defined"
     ]
    }
   ],
   "source": [
    "df.head()"
   ]
  },
  {
   "cell_type": "code",
   "execution_count": 92,
   "metadata": {},
   "outputs": [
    {
     "data": {
      "text/plain": [
       "2    1112163\n",
       "3     826877\n",
       "0     700406\n",
       "1     666967\n",
       "Name: preds, dtype: int64"
      ]
     },
     "execution_count": 92,
     "metadata": {},
     "output_type": "execute_result"
    }
   ],
   "source": [
    "df.preds.value_counts()"
   ]
  },
  {
   "cell_type": "code",
   "execution_count": 94,
   "metadata": {},
   "outputs": [
    {
     "data": {
      "text/plain": [
       "2    0.336365\n",
       "3    0.250083\n",
       "0    0.211833\n",
       "1    0.201719\n",
       "Name: preds, dtype: float64"
      ]
     },
     "execution_count": 94,
     "metadata": {},
     "output_type": "execute_result"
    }
   ],
   "source": [
    "df.preds.value_counts().apply(lambda x: x/df.shape[0])"
   ]
  },
  {
   "cell_type": "code",
   "execution_count": 95,
   "metadata": {},
   "outputs": [
    {
     "data": {
      "text/plain": [
       "1527283"
      ]
     },
     "execution_count": 95,
     "metadata": {},
     "output_type": "execute_result"
    }
   ],
   "source": [
    "700406 + 826877 # tweets positivos"
   ]
  },
  {
   "cell_type": "code",
   "execution_count": 96,
   "metadata": {},
   "outputs": [
    {
     "data": {
      "text/plain": [
       "1779130"
      ]
     },
     "execution_count": 96,
     "metadata": {},
     "output_type": "execute_result"
    }
   ],
   "source": [
    "666967 + 1112163 # tweets negativos"
   ]
  },
  {
   "cell_type": "code",
   "execution_count": 97,
   "metadata": {},
   "outputs": [
    {
     "data": {
      "text/plain": [
       "0.46191537475808375"
      ]
     },
     "execution_count": 97,
     "metadata": {},
     "output_type": "execute_result"
    }
   ],
   "source": [
    "1527283 / df.shape[0]"
   ]
  },
  {
   "cell_type": "code",
   "execution_count": 98,
   "metadata": {},
   "outputs": [
    {
     "data": {
      "text/plain": [
       "0.5380846252419162"
      ]
     },
     "execution_count": 98,
     "metadata": {},
     "output_type": "execute_result"
    }
   ],
   "source": [
    "1779130 / df.shape[0]"
   ]
  },
  {
   "cell_type": "code",
   "execution_count": 25,
   "metadata": {},
   "outputs": [],
   "source": [
    "with open(\"tweets.txt\",\"w\") as file:\n",
    "    for tokens in df['tokens'].as_matrix(columns=None):\n",
    "        for token in tokens:\n",
    "            file.write(token)\n",
    "            file.write(' ')\n",
    "        file.write('\\n')"
   ]
  }
 ],
 "metadata": {
  "kernelspec": {
   "display_name": "Python 3",
   "language": "python",
   "name": "python3"
  },
  "language_info": {
   "codemirror_mode": {
    "name": "ipython",
    "version": 3
   },
   "file_extension": ".py",
   "mimetype": "text/x-python",
   "name": "python",
   "nbconvert_exporter": "python",
   "pygments_lexer": "ipython3",
   "version": "3.6.3"
  }
 },
 "nbformat": 4,
 "nbformat_minor": 4
}
